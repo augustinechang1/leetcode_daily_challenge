{
 "cells": [
  {
   "cell_type": "code",
   "execution_count": 3,
   "metadata": {},
   "outputs": [],
   "source": [
    "sticks = [3354,4316,3259,4904,4598,474,3166,6322,8080,9009]\n"
   ]
  },
  {
   "cell_type": "markdown",
   "metadata": {},
   "source": [
    "https://leetcode.com/problems/minimum-cost-to-connect-sticks/submissions/"
   ]
  },
  {
   "cell_type": "code",
   "execution_count": 10,
   "metadata": {},
   "outputs": [],
   "source": [
    "class Solution:\n",
    "    def connectSticks(self, sticks):\n",
    "        if len(sticks) == 1:\n",
    "            return 0\n",
    "        \n",
    "        sticks = sorted(sticks)\n",
    "        print(sticks)\n",
    "        l = [sum(sticks[0:2])]\n",
    "        \n",
    "        for x in range(2, len(sticks)):\n",
    "            l.append(l[-1]+sticks[x])\n",
    "            print(sticks[x])\n",
    "            print(l)\n",
    "        return sum(l)"
   ]
  },
  {
   "cell_type": "code",
   "execution_count": 11,
   "metadata": {},
   "outputs": [],
   "source": [
    "a = Solution()"
   ]
  },
  {
   "cell_type": "code",
   "execution_count": 12,
   "metadata": {},
   "outputs": [
    {
     "name": "stdout",
     "output_type": "stream",
     "text": [
      "[474, 3166, 3259, 3354, 4316, 4598, 4904, 6322, 8080, 9009]\n",
      "3259\n",
      "[3640, 6899]\n",
      "3354\n",
      "[3640, 6899, 10253]\n",
      "4316\n",
      "[3640, 6899, 10253, 14569]\n",
      "4598\n",
      "[3640, 6899, 10253, 14569, 19167]\n",
      "4904\n",
      "[3640, 6899, 10253, 14569, 19167, 24071]\n",
      "6322\n",
      "[3640, 6899, 10253, 14569, 19167, 24071, 30393]\n",
      "8080\n",
      "[3640, 6899, 10253, 14569, 19167, 24071, 30393, 38473]\n",
      "9009\n",
      "[3640, 6899, 10253, 14569, 19167, 24071, 30393, 38473, 47482]\n"
     ]
    },
    {
     "data": {
      "text/plain": [
       "194947"
      ]
     },
     "execution_count": 12,
     "metadata": {},
     "output_type": "execute_result"
    }
   ],
   "source": [
    "a.connectSticks(sticks)"
   ]
  },
  {
   "cell_type": "code",
   "execution_count": null,
   "metadata": {},
   "outputs": [],
   "source": []
  }
 ],
 "metadata": {
  "kernelspec": {
   "display_name": "Python 3",
   "language": "python",
   "name": "python3"
  },
  "language_info": {
   "codemirror_mode": {
    "name": "ipython",
    "version": 3
   },
   "file_extension": ".py",
   "mimetype": "text/x-python",
   "name": "python",
   "nbconvert_exporter": "python",
   "pygments_lexer": "ipython3",
   "version": "3.7.4"
  }
 },
 "nbformat": 4,
 "nbformat_minor": 4
}

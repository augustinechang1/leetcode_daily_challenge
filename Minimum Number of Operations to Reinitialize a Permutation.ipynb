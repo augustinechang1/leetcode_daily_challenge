{
 "cells": [
  {
   "cell_type": "code",
   "execution_count": 190,
   "metadata": {},
   "outputs": [],
   "source": [
    "n = 2"
   ]
  },
  {
   "cell_type": "code",
   "execution_count": 191,
   "metadata": {},
   "outputs": [],
   "source": [
    "class Solution:\n",
    "    def reinitializePermutation(self, n: int):\n",
    "#         ans = 0\n",
    "#         perm = list(range(n))\n",
    "#         while True: \n",
    "#             ans += 1\n",
    "#             perm = [perm[n//2+(i-1)//2] if i&1 else perm[i//2] for i in range(n)]\n",
    "#             if all(perm[i] == i for i in range(n)): return ans\n",
    "        \n",
    "        a = list(range(n))\n",
    "        b = list(range(n))\n",
    "        cnt = 1\n",
    "        \n",
    "        for i in range(n):\n",
    "\n",
    "                if i % 2 == 0:\n",
    "                    \n",
    "                    a[i] = i//2\n",
    "                    \n",
    "                else:\n",
    "                    \n",
    "                    a[i] = n // 2 + (i - 1) // 2\n",
    "            \n",
    "        while a != b:\n",
    "            \n",
    "            for i, x in enumerate(a):\n",
    "\n",
    "                if x % 2 == 0:\n",
    "                    \n",
    "                    a[i] = x//2\n",
    "                    \n",
    "                else:\n",
    "                    \n",
    "                    a[i] = n // 2 + (x - 1) // 2\n",
    "                    \n",
    "            cnt += 1\n",
    "            print(a)\n",
    "        return cnt\n",
    "            \n"
   ]
  },
  {
   "cell_type": "code",
   "execution_count": 192,
   "metadata": {},
   "outputs": [],
   "source": [
    "a = Solution()"
   ]
  },
  {
   "cell_type": "code",
   "execution_count": 193,
   "metadata": {},
   "outputs": [
    {
     "data": {
      "text/plain": [
       "1"
      ]
     },
     "execution_count": 193,
     "metadata": {},
     "output_type": "execute_result"
    }
   ],
   "source": [
    "a.reinitializePermutation(n)"
   ]
  },
  {
   "cell_type": "code",
   "execution_count": null,
   "metadata": {},
   "outputs": [],
   "source": []
  },
  {
   "cell_type": "code",
   "execution_count": 101,
   "metadata": {},
   "outputs": [
    {
     "data": {
      "text/plain": [
       "range(0, 5)"
      ]
     },
     "execution_count": 101,
     "metadata": {},
     "output_type": "execute_result"
    }
   ],
   "source": [
    "range(5)"
   ]
  },
  {
   "cell_type": "code",
   "execution_count": 86,
   "metadata": {},
   "outputs": [],
   "source": [
    "n = range(5)"
   ]
  },
  {
   "cell_type": "code",
   "execution_count": 87,
   "metadata": {},
   "outputs": [
    {
     "data": {
      "text/plain": [
       "range(0, 5)"
      ]
     },
     "execution_count": 87,
     "metadata": {},
     "output_type": "execute_result"
    }
   ],
   "source": [
    "n"
   ]
  },
  {
   "cell_type": "code",
   "execution_count": 98,
   "metadata": {},
   "outputs": [
    {
     "data": {
      "text/plain": [
       "[0, 1, 2, 3, 4]"
      ]
     },
     "execution_count": 98,
     "metadata": {},
     "output_type": "execute_result"
    }
   ],
   "source": [
    "list(range(0,5))"
   ]
  },
  {
   "cell_type": "code",
   "execution_count": null,
   "metadata": {},
   "outputs": [],
   "source": []
  }
 ],
 "metadata": {
  "kernelspec": {
   "display_name": "Python 3",
   "language": "python",
   "name": "python3"
  },
  "language_info": {
   "codemirror_mode": {
    "name": "ipython",
    "version": 3
   },
   "file_extension": ".py",
   "mimetype": "text/x-python",
   "name": "python",
   "nbconvert_exporter": "python",
   "pygments_lexer": "ipython3",
   "version": "3.7.4"
  }
 },
 "nbformat": 4,
 "nbformat_minor": 4
}

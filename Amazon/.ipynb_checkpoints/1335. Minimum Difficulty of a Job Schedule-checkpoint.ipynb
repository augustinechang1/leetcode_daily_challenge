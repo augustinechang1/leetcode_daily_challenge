{
 "cells": [
  {
   "cell_type": "code",
   "execution_count": 3,
   "metadata": {},
   "outputs": [],
   "source": [
    "jobDifficulty = [6,5,4,3,2,1]\n",
    "d = 2"
   ]
  },
  {
   "cell_type": "code",
   "execution_count": 4,
   "metadata": {},
   "outputs": [],
   "source": [
    "n = len(jobDifficulty)"
   ]
  },
  {
   "cell_type": "code",
   "execution_count": 20,
   "metadata": {},
   "outputs": [],
   "source": [
    "import functools\n",
    "class Solution:\n",
    "\n",
    "    def minDifficulty(self, A, d):\n",
    "        n = len(A)\n",
    "        if n < d: return -1\n",
    "\n",
    "        @functools.lru_cache(None)\n",
    "        def dfs(i, d):\n",
    "            if d == 1:\n",
    "                return max(A[i:])\n",
    "            res, maxd = float('inf'), 0\n",
    "            for j in range(i, n - d + 1):\n",
    "                maxd = max(maxd, A[j])\n",
    "#                 print(maxd)\n",
    "                res = min(res, maxd + dfs(j + 1, d - 1))\n",
    "                print(dfs(j + 1, d - 1))\n",
    "#                 print(res)\n",
    "            return res\n",
    "        return dfs(0, d)"
   ]
  },
  {
   "cell_type": "code",
   "execution_count": 21,
   "metadata": {},
   "outputs": [],
   "source": [
    "a = Solution()"
   ]
  },
  {
   "cell_type": "code",
   "execution_count": 22,
   "metadata": {},
   "outputs": [
    {
     "name": "stdout",
     "output_type": "stream",
     "text": [
      "5\n",
      "4\n",
      "3\n",
      "2\n",
      "1\n"
     ]
    },
    {
     "data": {
      "text/plain": [
       "7"
      ]
     },
     "execution_count": 22,
     "metadata": {},
     "output_type": "execute_result"
    }
   ],
   "source": [
    "a.minDifficulty(jobDifficulty, d)"
   ]
  },
  {
   "cell_type": "code",
   "execution_count": null,
   "metadata": {},
   "outputs": [],
   "source": []
  }
 ],
 "metadata": {
  "kernelspec": {
   "display_name": "Python 3",
   "language": "python",
   "name": "python3"
  },
  "language_info": {
   "codemirror_mode": {
    "name": "ipython",
    "version": 3
   },
   "file_extension": ".py",
   "mimetype": "text/x-python",
   "name": "python",
   "nbconvert_exporter": "python",
   "pygments_lexer": "ipython3",
   "version": "3.7.4"
  }
 },
 "nbformat": 4,
 "nbformat_minor": 4
}

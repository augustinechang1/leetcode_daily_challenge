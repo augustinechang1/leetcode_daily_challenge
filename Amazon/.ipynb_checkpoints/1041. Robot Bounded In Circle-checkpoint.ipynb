{
 "cells": [
  {
   "cell_type": "markdown",
   "metadata": {},
   "source": [
    "https://leetcode.com/problems/robot-bounded-in-circle/"
   ]
  },
  {
   "cell_type": "code",
   "execution_count": 1,
   "metadata": {},
   "outputs": [
    {
     "ename": "SyntaxError",
     "evalue": "invalid syntax (<ipython-input-1-a25625d9b894>, line 25)",
     "output_type": "error",
     "traceback": [
      "\u001b[0;36m  File \u001b[0;32m\"<ipython-input-1-a25625d9b894>\"\u001b[0;36m, line \u001b[0;32m25\u001b[0m\n\u001b[0;31m    v = p[]\u001b[0m\n\u001b[0m          ^\u001b[0m\n\u001b[0;31mSyntaxError\u001b[0m\u001b[0;31m:\u001b[0m invalid syntax\n"
     ]
    }
   ],
   "source": [
    "class Solution:\n",
    "    def isRobotBounded(self, instructions: str) -> bool:\n",
    "        d = 0\n",
    "        p = [0, 0]\n",
    "        for x in instructions:\n",
    "            if x == 'G':\n",
    "                if d == 0:\n",
    "                    p[1] += 1\n",
    "                elif d == 90:\n",
    "                    p[0] += 1\n",
    "                elif d == 180:\n",
    "                    p[1] -= 1\n",
    "                elif d == 270:\n",
    "                    p[0] -= 1\n",
    "                else:\n",
    "                    p[1] += 1\n",
    "                    x -= 360\n",
    "            elif x == \"L\":\n",
    "                d += 90\n",
    "            elif x == \"R\":\n",
    "                d -= 90\n",
    "            \n",
    "            if x >= 360:\n",
    "                x -= 360\n",
    "        v = p[]"
   ]
  },
  {
   "cell_type": "code",
   "execution_count": null,
   "metadata": {},
   "outputs": [],
   "source": []
  }
 ],
 "metadata": {
  "kernelspec": {
   "display_name": "Python 3",
   "language": "python",
   "name": "python3"
  },
  "language_info": {
   "codemirror_mode": {
    "name": "ipython",
    "version": 3
   },
   "file_extension": ".py",
   "mimetype": "text/x-python",
   "name": "python",
   "nbconvert_exporter": "python",
   "pygments_lexer": "ipython3",
   "version": "3.7.4"
  }
 },
 "nbformat": 4,
 "nbformat_minor": 4
}

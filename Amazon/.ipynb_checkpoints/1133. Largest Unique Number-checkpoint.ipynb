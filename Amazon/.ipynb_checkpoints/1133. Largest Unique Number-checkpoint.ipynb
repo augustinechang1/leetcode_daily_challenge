{
 "cells": [
  {
   "cell_type": "markdown",
   "metadata": {},
   "source": [
    "https://leetcode.com/problems/largest-unique-number/"
   ]
  },
  {
   "cell_type": "code",
   "execution_count": null,
   "metadata": {},
   "outputs": [],
   "source": [
    "class Solution:\n",
    "    def largestUniqueNumber(self, A: List[int]) -> int:\n",
    "        a = [x for x in A if A.count(x) == 1]\n",
    "        if len(a) == 0:\n",
    "            return -1\n",
    "        else:\n",
    "            return sorted(a, reverse=True)[0]\n",
    "            "
   ]
  }
 ],
 "metadata": {
  "kernelspec": {
   "display_name": "Python 3",
   "language": "python",
   "name": "python3"
  },
  "language_info": {
   "codemirror_mode": {
    "name": "ipython",
    "version": 3
   },
   "file_extension": ".py",
   "mimetype": "text/x-python",
   "name": "python",
   "nbconvert_exporter": "python",
   "pygments_lexer": "ipython3",
   "version": "3.7.4"
  }
 },
 "nbformat": 4,
 "nbformat_minor": 4
}

{
 "cells": [
  {
   "cell_type": "markdown",
   "metadata": {},
   "source": [
    "https://leetcode.com/problems/maximum-swap/"
   ]
  },
  {
   "cell_type": "code",
   "execution_count": 48,
   "metadata": {},
   "outputs": [],
   "source": [
    "a = 2739"
   ]
  },
  {
   "cell_type": "code",
   "execution_count": 49,
   "metadata": {},
   "outputs": [],
   "source": [
    "lst = [int(x) for x in str(a)]\n",
    "slst = sorted(lst, reverse = True)"
   ]
  },
  {
   "cell_type": "code",
   "execution_count": 50,
   "metadata": {},
   "outputs": [
    {
     "data": {
      "text/plain": [
       "{2: 0, 7: 1, 3: 2, 9: 3}"
      ]
     },
     "execution_count": 50,
     "metadata": {},
     "output_type": "execute_result"
    }
   ],
   "source": [
    "d = {x:i for i, x in enumerate(lst)}\n",
    "d"
   ]
  },
  {
   "cell_type": "code",
   "execution_count": 51,
   "metadata": {},
   "outputs": [
    {
     "name": "stdout",
     "output_type": "stream",
     "text": [
      "9732\n"
     ]
    }
   ],
   "source": [
    "lst = [int(x) for x in str(a)]\n",
    "slst = sorted(lst, reverse = True)\n",
    "\n",
    "\n",
    "d = {x:i for i, x in enumerate(lst)}\n",
    "\n",
    "# find biggest number\n",
    "t = 0\n",
    "\n",
    "# iterate through the list, find value less than the biggest number\n",
    "for x in range(len(lst)):\n",
    "    if lst[x] < slst[t]:\n",
    "        y = lst[x]\n",
    "        lst[x] = slst[t]\n",
    "        lst[d[slst[x]]] = y\n",
    "        break\n",
    "    else:\n",
    "        t += 1\n",
    " \n",
    "print(int(''.join(str(x) for x in lst)))\n",
    "\n",
    "# replace it with the biggest number."
   ]
  },
  {
   "cell_type": "code",
   "execution_count": null,
   "metadata": {},
   "outputs": [],
   "source": []
  },
  {
   "cell_type": "code",
   "execution_count": null,
   "metadata": {},
   "outputs": [],
   "source": []
  }
 ],
 "metadata": {
  "kernelspec": {
   "display_name": "Python 3",
   "language": "python",
   "name": "python3"
  },
  "language_info": {
   "codemirror_mode": {
    "name": "ipython",
    "version": 3
   },
   "file_extension": ".py",
   "mimetype": "text/x-python",
   "name": "python",
   "nbconvert_exporter": "python",
   "pygments_lexer": "ipython3",
   "version": "3.7.4"
  }
 },
 "nbformat": 4,
 "nbformat_minor": 4
}

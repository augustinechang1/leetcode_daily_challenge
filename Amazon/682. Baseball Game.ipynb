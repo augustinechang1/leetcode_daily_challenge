{
 "cells": [
  {
   "cell_type": "markdown",
   "metadata": {},
   "source": [
    "Input: ops = [\"5\",\"2\",\"C\",\"D\",\"+\"]\n",
    "Output: 30\n",
    "Explanation:\n",
    "\"5\" - Add 5 to the record, record is now [5].\n",
    "\"2\" - Add 2 to the record, record is now [5, 2].\n",
    "\"C\" - Invalidate and remove the previous score, record is now [5].\n",
    "\"D\" - Add 2 * 5 = 10 to the record, record is now [5, 10].\n",
    "\"+\" - Add 5 + 10 = 15 to the record, record is now [5, 10, 15].\n",
    "The total sum is 5 + 10 + 15 = 30."
   ]
  },
  {
   "cell_type": "markdown",
   "metadata": {},
   "source": [
    "https://leetcode.com/problems/baseball-game/"
   ]
  },
  {
   "cell_type": "code",
   "execution_count": 1,
   "metadata": {},
   "outputs": [],
   "source": [
    "ops = [\"5\",\"2\",\"C\",\"D\",\"+\"]"
   ]
  },
  {
   "cell_type": "code",
   "execution_count": 2,
   "metadata": {},
   "outputs": [],
   "source": [
    "class Solution:\n",
    "    def calPoints(self, ops):\n",
    "        lst = []\n",
    "        for x in ops:\n",
    "            if x == \"C\":\n",
    "                del lst[-1]\n",
    "            elif x == \"D\":\n",
    "                lst.append(lst[-1]*2)\n",
    "            elif x == \"+\":\n",
    "                lst.append(lst[-1]+lst[-2])\n",
    "            else:\n",
    "                lst.append(int(x))\n",
    "        return sum(lst)"
   ]
  },
  {
   "cell_type": "code",
   "execution_count": 3,
   "metadata": {},
   "outputs": [],
   "source": [
    "a = Solution()"
   ]
  },
  {
   "cell_type": "code",
   "execution_count": 4,
   "metadata": {},
   "outputs": [
    {
     "data": {
      "text/plain": [
       "30"
      ]
     },
     "execution_count": 4,
     "metadata": {},
     "output_type": "execute_result"
    }
   ],
   "source": [
    "a.calPoints(ops)"
   ]
  },
  {
   "cell_type": "code",
   "execution_count": null,
   "metadata": {},
   "outputs": [],
   "source": []
  }
 ],
 "metadata": {
  "kernelspec": {
   "display_name": "Python 3",
   "language": "python",
   "name": "python3"
  },
  "language_info": {
   "codemirror_mode": {
    "name": "ipython",
    "version": 3
   },
   "file_extension": ".py",
   "mimetype": "text/x-python",
   "name": "python",
   "nbconvert_exporter": "python",
   "pygments_lexer": "ipython3",
   "version": "3.7.4"
  }
 },
 "nbformat": 4,
 "nbformat_minor": 4
}

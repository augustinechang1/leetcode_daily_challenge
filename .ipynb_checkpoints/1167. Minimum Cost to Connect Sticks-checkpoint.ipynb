{
 "cells": [
  {
   "cell_type": "code",
   "execution_count": 4,
   "metadata": {},
   "outputs": [],
   "source": [
    "sticks = [3354,4316,3259,4904,4598,474,3166,6322,8080,9009]\n"
   ]
  },
  {
   "cell_type": "markdown",
   "metadata": {},
   "source": [
    "https://leetcode.com/problems/minimum-cost-to-connect-sticks/submissions/"
   ]
  },
  {
   "cell_type": "code",
   "execution_count": 5,
   "metadata": {},
   "outputs": [],
   "source": [
    "class Solution:\n",
    "    def connectSticks(self, sticks):\n",
    "        if len(sticks) == 1:\n",
    "            return 0\n",
    "        l = 0\n",
    "        while len(sticks) != 1:\n",
    "            sticks = sorted(sticks)\n",
    "            comb = sticks[0] + sticks[1]\n",
    "            l += comb\n",
    "            print(sticks)\n",
    "            del sticks[:2]\n",
    "            sticks.append(comb)\n",
    "        \n",
    "        \n",
    "#         for x in range(2, len(sticks)):\n",
    "#             if sticks[x] > l[0]:\n",
    "#                 l.append(l[-1]+sticks[x])\n",
    "#             else:\n",
    "#                 m = l[0]\n",
    "                \n",
    "#             print(sticks[x])\n",
    "#             print(l)\n",
    "            \n",
    "        \n",
    "        return l"
   ]
  },
  {
   "cell_type": "code",
   "execution_count": null,
   "metadata": {},
   "outputs": [],
   "source": []
  },
  {
   "cell_type": "code",
   "execution_count": 6,
   "metadata": {},
   "outputs": [],
   "source": [
    "a = Solution()"
   ]
  },
  {
   "cell_type": "code",
   "execution_count": 7,
   "metadata": {},
   "outputs": [
    {
     "name": "stdout",
     "output_type": "stream",
     "text": [
      "[474, 3166, 3259, 3354, 4316, 4598, 4904, 6322, 8080, 9009]\n",
      "[3259, 3354, 3640, 4316, 4598, 4904, 6322, 8080, 9009]\n",
      "[3640, 4316, 4598, 4904, 6322, 6613, 8080, 9009]\n",
      "[4598, 4904, 6322, 6613, 7956, 8080, 9009]\n",
      "[6322, 6613, 7956, 8080, 9009, 9502]\n",
      "[7956, 8080, 9009, 9502, 12935]\n",
      "[9009, 9502, 12935, 16036]\n",
      "[12935, 16036, 18511]\n",
      "[18511, 28971]\n"
     ]
    },
    {
     "data": {
      "text/plain": [
       "151646"
      ]
     },
     "execution_count": 7,
     "metadata": {},
     "output_type": "execute_result"
    }
   ],
   "source": [
    "a.connectSticks(sticks)"
   ]
  },
  {
   "cell_type": "code",
   "execution_count": 12,
   "metadata": {},
   "outputs": [],
   "source": [
    "# Python3 program to connect n  \n",
    "# ropes with minimum cost  \n",
    "import heapq  \n",
    "  \n",
    "def minCost(arr): \n",
    "      \n",
    "    # Create a priority queue out of the  \n",
    "    # given list \n",
    "    heapq.heapify(arr) \n",
    "      \n",
    "    # Initializ result \n",
    "    res = 0\n",
    "      \n",
    "    # While size of priority queue  \n",
    "    # is more than 1  \n",
    "    while(len(arr) > 1): \n",
    "          \n",
    "        # Extract shortest two ropes from arr \n",
    "        first = heapq.heappop(arr) \n",
    "        second = heapq.heappop(arr) \n",
    "          \n",
    "        #Connect the ropes: update result  \n",
    "        # and insert the new rope to arr \n",
    "        res += first + second \n",
    "        heapq.heappush(arr, first + second) \n",
    "          \n",
    "    return res \n",
    "  "
   ]
  },
  {
   "cell_type": "code",
   "execution_count": 13,
   "metadata": {},
   "outputs": [
    {
     "data": {
      "text/plain": [
       "151646"
      ]
     },
     "execution_count": 13,
     "metadata": {},
     "output_type": "execute_result"
    }
   ],
   "source": [
    "minCost(sticks)"
   ]
  },
  {
   "cell_type": "code",
   "execution_count": 19,
   "metadata": {},
   "outputs": [
    {
     "name": "stdout",
     "output_type": "stream",
     "text": [
      "[474, 4316, 3166, 4904, 4598, 3259, 3354, 6322, 8080, 9009]\n"
     ]
    }
   ],
   "source": [
    "heapq.heapify(sticks)\n",
    "\n",
    "print(list(sticks))"
   ]
  },
  {
   "cell_type": "code",
   "execution_count": null,
   "metadata": {},
   "outputs": [],
   "source": []
  }
 ],
 "metadata": {
  "kernelspec": {
   "display_name": "Python 3",
   "language": "python",
   "name": "python3"
  },
  "language_info": {
   "codemirror_mode": {
    "name": "ipython",
    "version": 3
   },
   "file_extension": ".py",
   "mimetype": "text/x-python",
   "name": "python",
   "nbconvert_exporter": "python",
   "pygments_lexer": "ipython3",
   "version": "3.7.4"
  }
 },
 "nbformat": 4,
 "nbformat_minor": 4
}
